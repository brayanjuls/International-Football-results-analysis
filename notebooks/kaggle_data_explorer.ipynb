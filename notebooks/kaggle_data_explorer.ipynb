{
 "cells": [
  {
   "cell_type": "code",
   "execution_count": 2,
   "metadata": {
    "collapsed": true
   },
   "outputs": [
    {
     "name": "stdout",
     "output_type": "stream",
     "text": [
      "Warning: Your Kaggle API key is readable by other users on this system! To fix this, you can run 'chmod 600 /Users/brayanjules/.kaggle/kaggle.json'\n"
     ]
    }
   ],
   "source": [
    "import kaggle\n",
    "from pyspark.sql import SparkSession\n",
    "import pyspark.sql.functions as fc"
   ]
  },
  {
   "cell_type": "code",
   "execution_count": 3,
   "outputs": [],
   "source": [
    "spark=SparkSession\\\n",
    "    .builder\\\n",
    "    .appName(\"kaggle_explore\")\\\n",
    "    .getOrCreate()"
   ],
   "metadata": {
    "collapsed": false,
    "pycharm": {
     "name": "#%%\n"
    }
   }
  },
  {
   "cell_type": "code",
   "execution_count": 9,
   "outputs": [],
   "source": [
    "files=kaggle.api.dataset_download_files(dataset=\"martj42/international-football-results-from-1872-to-2017\",path=\"../resources/\",unzip=True)"
   ],
   "metadata": {
    "collapsed": false,
    "pycharm": {
     "name": "#%%\n"
    }
   }
  },
  {
   "cell_type": "code",
   "execution_count": 4,
   "outputs": [],
   "source": [
    "int_football_result=spark.read.csv(\"../resources/\",inferSchema=True,header=True)"
   ],
   "metadata": {
    "collapsed": false,
    "pycharm": {
     "name": "#%%\n"
    }
   }
  },
  {
   "cell_type": "code",
   "execution_count": 6,
   "outputs": [
    {
     "name": "stdout",
     "output_type": "stream",
     "text": [
      "root\n",
      " |-- date: string (nullable = true)\n",
      " |-- home_team: string (nullable = true)\n",
      " |-- away_team: string (nullable = true)\n",
      " |-- home_score: string (nullable = true)\n",
      " |-- away_score: string (nullable = true)\n",
      " |-- tournament: string (nullable = true)\n",
      " |-- city: string (nullable = true)\n",
      " |-- country: string (nullable = true)\n",
      " |-- neutral: string (nullable = true)\n",
      "\n"
     ]
    }
   ],
   "source": [
    "int_football_result.printSchema()"
   ],
   "metadata": {
    "collapsed": false,
    "pycharm": {
     "name": "#%%\n"
    }
   }
  },
  {
   "cell_type": "code",
   "execution_count": 7,
   "outputs": [
    {
     "data": {
      "text/plain": "         date home_team away_team home_score away_score tournament     city  \\\n0  1872-11-30  Scotland   England          0          0   Friendly  Glasgow   \n1  1873-03-08   England  Scotland          4          2   Friendly   London   \n2  1874-03-07  Scotland   England          2          1   Friendly  Glasgow   \n3  1875-03-06   England  Scotland          2          2   Friendly   London   \n4  1876-03-04  Scotland   England          3          0   Friendly  Glasgow   \n\n    country neutral  \n0  Scotland   FALSE  \n1   England   FALSE  \n2  Scotland   FALSE  \n3   England   FALSE  \n4  Scotland   FALSE  ",
      "text/html": "<div>\n<style scoped>\n    .dataframe tbody tr th:only-of-type {\n        vertical-align: middle;\n    }\n\n    .dataframe tbody tr th {\n        vertical-align: top;\n    }\n\n    .dataframe thead th {\n        text-align: right;\n    }\n</style>\n<table border=\"1\" class=\"dataframe\">\n  <thead>\n    <tr style=\"text-align: right;\">\n      <th></th>\n      <th>date</th>\n      <th>home_team</th>\n      <th>away_team</th>\n      <th>home_score</th>\n      <th>away_score</th>\n      <th>tournament</th>\n      <th>city</th>\n      <th>country</th>\n      <th>neutral</th>\n    </tr>\n  </thead>\n  <tbody>\n    <tr>\n      <th>0</th>\n      <td>1872-11-30</td>\n      <td>Scotland</td>\n      <td>England</td>\n      <td>0</td>\n      <td>0</td>\n      <td>Friendly</td>\n      <td>Glasgow</td>\n      <td>Scotland</td>\n      <td>FALSE</td>\n    </tr>\n    <tr>\n      <th>1</th>\n      <td>1873-03-08</td>\n      <td>England</td>\n      <td>Scotland</td>\n      <td>4</td>\n      <td>2</td>\n      <td>Friendly</td>\n      <td>London</td>\n      <td>England</td>\n      <td>FALSE</td>\n    </tr>\n    <tr>\n      <th>2</th>\n      <td>1874-03-07</td>\n      <td>Scotland</td>\n      <td>England</td>\n      <td>2</td>\n      <td>1</td>\n      <td>Friendly</td>\n      <td>Glasgow</td>\n      <td>Scotland</td>\n      <td>FALSE</td>\n    </tr>\n    <tr>\n      <th>3</th>\n      <td>1875-03-06</td>\n      <td>England</td>\n      <td>Scotland</td>\n      <td>2</td>\n      <td>2</td>\n      <td>Friendly</td>\n      <td>London</td>\n      <td>England</td>\n      <td>FALSE</td>\n    </tr>\n    <tr>\n      <th>4</th>\n      <td>1876-03-04</td>\n      <td>Scotland</td>\n      <td>England</td>\n      <td>3</td>\n      <td>0</td>\n      <td>Friendly</td>\n      <td>Glasgow</td>\n      <td>Scotland</td>\n      <td>FALSE</td>\n    </tr>\n  </tbody>\n</table>\n</div>"
     },
     "execution_count": 7,
     "metadata": {},
     "output_type": "execute_result"
    }
   ],
   "source": [
    "int_football_result.limit(5).toPandas()"
   ],
   "metadata": {
    "collapsed": false,
    "pycharm": {
     "name": "#%%\n"
    }
   }
  },
  {
   "cell_type": "code",
   "execution_count": 8,
   "outputs": [
    {
     "data": {
      "text/plain": "  summary                                               date  \\\n0   count                                              41911   \n1    mean                                               None   \n2  stddev                                               None   \n3     min  \u0002Χ۲��4��^8-AZ忺�im�\\�Q�fj5<���DDY\\t�\u0000\u0000R1��$��\n1...   \n4     max  �������B5�6����iQ_L��%��I-\\td�mJ3I�u]ړI�`\u0002�\u0000\u0000\u0000...   \n\n                               home_team  \\\n0                                  41708   \n1                                   None   \n2                                   None   \n3  \u0000�X���aW~T�\u000FU��\u001F��\u0015w�N�᪀\u0003*�X���aW~T�\n   \n4      ����`��z�\"䠹o\u0011����ee���\u0014�U���%���b   \n\n                                           away_team  \\\n0                                              41634   \n1                                               None   \n2                                               None   \n3                                             \u0005o\u0011/Hv   \n4  �������~��QG�їD�;�4�%�kd�I���k�&�?�?��6s�2t�5�...   \n\n                                          home_score  \\\n0                                              41607   \n1                                  1.745755783196268   \n2                                 1.7537803404769956   \n3  \u0014�\u0005��YȖ��I[��x�uYmQ�\"3�Ȉ��D<\u000FH?��\u0017���!�0|'�#���o   \n4                                             ����`n   \n\n                                          away_score  \\\n0                                              41595   \n1                                  1.187587168758717   \n2                                 1.4053234683358855   \n3                                                  0   \n4  �����\u0017\u000E\u0015��+�WU��\u0017e�Lj�Kj\u00156�CC���M����庝е��F�LȐ�...   \n\n                                       tournament  \\\n0                                           41592   \n1                                            None   \n2                                            None   \n3                                        @��ߊd�}�   \n4  �v5F4\u0005*J\u0018�=\n�\n�GJ��!d�Q�HY��H�QY\u0019�$mk�\u0015Է\u001Bf�T��   \n\n                                                city  \\\n0                                              41591   \n1                                               None   \n2                                               None   \n3                     5)��a-��9����R�.W��2̳\"�WY�w�a�   \n4  �9fFG�i�\u0019W\u0003*���迂U$�s�).�؏\u0019i߉�'R�dɯU��R\u0013ʥJ��;3�...   \n\n                    country          neutral  \n0                     41588            41587  \n1                      None             None  \n2                      None             None  \n3               Afghanistan            FALSE  \n4  �\u0015PM�wǃ�SڦL7\u0018xɩN2��ٙ ��m  ř�\u0003�wc�#� �����  ",
      "text/html": "<div>\n<style scoped>\n    .dataframe tbody tr th:only-of-type {\n        vertical-align: middle;\n    }\n\n    .dataframe tbody tr th {\n        vertical-align: top;\n    }\n\n    .dataframe thead th {\n        text-align: right;\n    }\n</style>\n<table border=\"1\" class=\"dataframe\">\n  <thead>\n    <tr style=\"text-align: right;\">\n      <th></th>\n      <th>summary</th>\n      <th>date</th>\n      <th>home_team</th>\n      <th>away_team</th>\n      <th>home_score</th>\n      <th>away_score</th>\n      <th>tournament</th>\n      <th>city</th>\n      <th>country</th>\n      <th>neutral</th>\n    </tr>\n  </thead>\n  <tbody>\n    <tr>\n      <th>0</th>\n      <td>count</td>\n      <td>41911</td>\n      <td>41708</td>\n      <td>41634</td>\n      <td>41607</td>\n      <td>41595</td>\n      <td>41592</td>\n      <td>41591</td>\n      <td>41588</td>\n      <td>41587</td>\n    </tr>\n    <tr>\n      <th>1</th>\n      <td>mean</td>\n      <td>None</td>\n      <td>None</td>\n      <td>None</td>\n      <td>1.745755783196268</td>\n      <td>1.187587168758717</td>\n      <td>None</td>\n      <td>None</td>\n      <td>None</td>\n      <td>None</td>\n    </tr>\n    <tr>\n      <th>2</th>\n      <td>stddev</td>\n      <td>None</td>\n      <td>None</td>\n      <td>None</td>\n      <td>1.7537803404769956</td>\n      <td>1.4053234683358855</td>\n      <td>None</td>\n      <td>None</td>\n      <td>None</td>\n      <td>None</td>\n    </tr>\n    <tr>\n      <th>3</th>\n      <td>min</td>\n      <td>\u0002Χ۲��4��^8-AZ忺�im�\\�Q�fj5&lt;���DDY\\t�\u0000\u0000R1��$��\u001E1...</td>\n      <td>\u0000�X���aW~T�\u000FU��\u001F��\u0015w�N�᪀\u0003*�X���aW~T�</td>\n      <td>\u0005o\u0011/Hv</td>\n      <td>\u0014�\u0005��YȖ��I[��x�uYmQ�\"3�Ȉ��D&lt;\u000FH?��\u0017���!�0|'�#���o</td>\n      <td>0</td>\n      <td>@��ߊd�}�</td>\n      <td>5)��a-��9����R�.W��2̳\"�WY�w�a�</td>\n      <td>Afghanistan</td>\n      <td>FALSE</td>\n    </tr>\n    <tr>\n      <th>4</th>\n      <td>max</td>\n      <td>�������B5�6����iQ_L��%��I-\\td�mJ3I�u]ړI�`\u0002�\u0000\u0000\u0000...</td>\n      <td>����`��z�\"䠹o\u0011����ee���\u0014�U���%���b</td>\n      <td>�������~��QG�їD�;�4�%�kd�I���k�&amp;�?�?��6s�2t�5�...</td>\n      <td>����`n</td>\n      <td>�����\u0017\u000E\u0015��+�WU��\u0017e�Lj�Kj\u00156�CC���M����庝е��F�LȐ�...</td>\n      <td>�v5F4\u0005*J\u0018�=\u001C�\u001C�GJ��!d�Q�HY��H�QY\u0019�$mk�\u0015Է\u001Bf�T��</td>\n      <td>�9fFG�i�\u0019W\u0003*���迂U$�s�).�؏\u0019i߉�'R�dɯU��R\u0013ʥJ��;3�...</td>\n      <td>�\u0015PM�wǃ�SڦL7\u0018xɩN2��ٙ ��m</td>\n      <td>ř�\u0003�wc�#� �����</td>\n    </tr>\n  </tbody>\n</table>\n</div>"
     },
     "execution_count": 8,
     "metadata": {},
     "output_type": "execute_result"
    }
   ],
   "source": [
    "int_football_result.describe().toPandas()"
   ],
   "metadata": {
    "collapsed": false,
    "pycharm": {
     "name": "#%%\n"
    }
   }
  },
  {
   "cell_type": "code",
   "execution_count": 73,
   "outputs": [],
   "source": [
    "int_football_result=spark.read.csv(\"../resources/\",inferSchema=True,header=True,mode=\"DROPMALFORMED\")\n",
    "\n"
   ],
   "metadata": {
    "collapsed": false,
    "pycharm": {
     "name": "#%%\n"
    }
   }
  },
  {
   "cell_type": "code",
   "execution_count": 74,
   "outputs": [
    {
     "data": {
      "text/plain": "  summary        date      home_team      away_team          home_score  \\\n0   count       41586          41586          41586               41586   \n1    mean        None           None           None   1.745755783196268   \n2  stddev        None           None           None  1.7537803404769956   \n3     min  1872-11-30       Abkhazia       Abkhazia                   0   \n4     max  2020-02-01  Åland Islands  Åland Islands                   9   \n\n           away_score       tournament                 city      country  \\\n0               41586            41586                41586        41586   \n1   1.187587168758717             None                 None         None   \n2  1.4053234683358855             None                 None         None   \n3                   0  ABCS Tournament  6th of October City  Afghanistan   \n4                   9  World Unity Cup               ‘Atele         Éire   \n\n  neutral  \n0   41586  \n1    None  \n2    None  \n3   FALSE  \n4    TRUE  ",
      "text/html": "<div>\n<style scoped>\n    .dataframe tbody tr th:only-of-type {\n        vertical-align: middle;\n    }\n\n    .dataframe tbody tr th {\n        vertical-align: top;\n    }\n\n    .dataframe thead th {\n        text-align: right;\n    }\n</style>\n<table border=\"1\" class=\"dataframe\">\n  <thead>\n    <tr style=\"text-align: right;\">\n      <th></th>\n      <th>summary</th>\n      <th>date</th>\n      <th>home_team</th>\n      <th>away_team</th>\n      <th>home_score</th>\n      <th>away_score</th>\n      <th>tournament</th>\n      <th>city</th>\n      <th>country</th>\n      <th>neutral</th>\n    </tr>\n  </thead>\n  <tbody>\n    <tr>\n      <th>0</th>\n      <td>count</td>\n      <td>41586</td>\n      <td>41586</td>\n      <td>41586</td>\n      <td>41586</td>\n      <td>41586</td>\n      <td>41586</td>\n      <td>41586</td>\n      <td>41586</td>\n      <td>41586</td>\n    </tr>\n    <tr>\n      <th>1</th>\n      <td>mean</td>\n      <td>None</td>\n      <td>None</td>\n      <td>None</td>\n      <td>1.745755783196268</td>\n      <td>1.187587168758717</td>\n      <td>None</td>\n      <td>None</td>\n      <td>None</td>\n      <td>None</td>\n    </tr>\n    <tr>\n      <th>2</th>\n      <td>stddev</td>\n      <td>None</td>\n      <td>None</td>\n      <td>None</td>\n      <td>1.7537803404769956</td>\n      <td>1.4053234683358855</td>\n      <td>None</td>\n      <td>None</td>\n      <td>None</td>\n      <td>None</td>\n    </tr>\n    <tr>\n      <th>3</th>\n      <td>min</td>\n      <td>1872-11-30</td>\n      <td>Abkhazia</td>\n      <td>Abkhazia</td>\n      <td>0</td>\n      <td>0</td>\n      <td>ABCS Tournament</td>\n      <td>6th of October City</td>\n      <td>Afghanistan</td>\n      <td>FALSE</td>\n    </tr>\n    <tr>\n      <th>4</th>\n      <td>max</td>\n      <td>2020-02-01</td>\n      <td>Åland Islands</td>\n      <td>Åland Islands</td>\n      <td>9</td>\n      <td>9</td>\n      <td>World Unity Cup</td>\n      <td>‘Atele</td>\n      <td>Éire</td>\n      <td>TRUE</td>\n    </tr>\n  </tbody>\n</table>\n</div>"
     },
     "execution_count": 74,
     "metadata": {},
     "output_type": "execute_result"
    }
   ],
   "source": [
    "int_football_result.describe().toPandas()"
   ],
   "metadata": {
    "collapsed": false,
    "pycharm": {
     "name": "#%%\n"
    }
   }
  },
  {
   "cell_type": "code",
   "execution_count": 75,
   "outputs": [
    {
     "data": {
      "text/plain": "                                                    date  \\\n0             \u0018\u00033\u00163���'��\n��;�\u0001�ZD�SÞ�gz`h�\u0019����\u0016�=���\u0019ޘ   \n1                                                      �   \n2                 ��'��\n��;�\u0003F\u0000�Ō�x��짇=����o\u0016�=���\u0019ޘ\u001A0\u0006f   \n3                                   (p4��1�\u001B�L��Î7��\u001F)�p   \n4                                                  Cޣ�\u0016P   \n...                                                  ...   \n41889                                         2019-06-02   \n41890                                         2019-07-08   \n41891                                         2019-09-06   \n41892                                         2019-10-10   \n41893  �hT�T��\\]���^\u001B��韉_\u0003W�J5�+��k���kn6�iu��hY\u0012���d...   \n\n                                               home_team  \\\n0                                                   None   \n1                                                   None   \n2      g;ŤOe<9�\u0006w�\u0003x��짇=����р31c9�-\"{)��x3�0\u001BŤOe<9�\u0006w...   \n3                                                   None   \n4                                                   None   \n...                                                  ...   \n41889                                    Western Armenia   \n41890                                     American Samoa   \n41891                                         San Marino   \n41892                                             Serbia   \n41893  늡��gn$+6��a-��D�&��\u0000FF��\u0000�)>x�\u0007���\u0003���n�$�כ;\u001F...   \n\n                                               away_team home_score  \\\n0                                                   None       None   \n1                                                   None       None   \n2                                                   None       None   \n3                                                   None       None   \n4                                                   None       None   \n...                                                  ...        ...   \n41889                                      South Ossetia          1   \n41890                                      New Caledonia          0   \n41891                                            Belgium          0   \n41892                                           Paraguay          1   \n41893  ��Fd��s3�ȅ���d���rU!ĩ�\u001BC/�*���ce�\\tu���ж�Z�y�p...       None   \n\n      away_score  count  \n0           None      6  \n1           None      5  \n2           None      5  \n3           None      5  \n4           None      2  \n...          ...    ...  \n41889          2      1  \n41890          5      1  \n41891          4      1  \n41892          0      1  \n41893       None      1  \n\n[41894 rows x 6 columns]",
      "text/html": "<div>\n<style scoped>\n    .dataframe tbody tr th:only-of-type {\n        vertical-align: middle;\n    }\n\n    .dataframe tbody tr th {\n        vertical-align: top;\n    }\n\n    .dataframe thead th {\n        text-align: right;\n    }\n</style>\n<table border=\"1\" class=\"dataframe\">\n  <thead>\n    <tr style=\"text-align: right;\">\n      <th></th>\n      <th>date</th>\n      <th>home_team</th>\n      <th>away_team</th>\n      <th>home_score</th>\n      <th>away_score</th>\n      <th>count</th>\n    </tr>\n  </thead>\n  <tbody>\n    <tr>\n      <th>0</th>\n      <td>\u0018\u00033\u00163���'��\u001C��;�\u0001�ZD�SÞ�gz`h�\u0019����\u0016�=���\u0019ޘ</td>\n      <td>None</td>\n      <td>None</td>\n      <td>None</td>\n      <td>None</td>\n      <td>6</td>\n    </tr>\n    <tr>\n      <th>1</th>\n      <td>�</td>\n      <td>None</td>\n      <td>None</td>\n      <td>None</td>\n      <td>None</td>\n      <td>5</td>\n    </tr>\n    <tr>\n      <th>2</th>\n      <td>��'��\u001C��;�\u0003F\u0000�Ō�x��짇=����o\u0016�=���\u0019ޘ\u001A0\u0006f</td>\n      <td>g;ŤOe&lt;9�\u0006w�\u0003x��짇=����р31c9�-\"{)��x3�0\u001BŤOe&lt;9�\u0006w...</td>\n      <td>None</td>\n      <td>None</td>\n      <td>None</td>\n      <td>5</td>\n    </tr>\n    <tr>\n      <th>3</th>\n      <td>(p4��1�\u001B�L��Î7��\u001F)�p</td>\n      <td>None</td>\n      <td>None</td>\n      <td>None</td>\n      <td>None</td>\n      <td>5</td>\n    </tr>\n    <tr>\n      <th>4</th>\n      <td>Cޣ�\u0016P</td>\n      <td>None</td>\n      <td>None</td>\n      <td>None</td>\n      <td>None</td>\n      <td>2</td>\n    </tr>\n    <tr>\n      <th>...</th>\n      <td>...</td>\n      <td>...</td>\n      <td>...</td>\n      <td>...</td>\n      <td>...</td>\n      <td>...</td>\n    </tr>\n    <tr>\n      <th>41889</th>\n      <td>2019-06-02</td>\n      <td>Western Armenia</td>\n      <td>South Ossetia</td>\n      <td>1</td>\n      <td>2</td>\n      <td>1</td>\n    </tr>\n    <tr>\n      <th>41890</th>\n      <td>2019-07-08</td>\n      <td>American Samoa</td>\n      <td>New Caledonia</td>\n      <td>0</td>\n      <td>5</td>\n      <td>1</td>\n    </tr>\n    <tr>\n      <th>41891</th>\n      <td>2019-09-06</td>\n      <td>San Marino</td>\n      <td>Belgium</td>\n      <td>0</td>\n      <td>4</td>\n      <td>1</td>\n    </tr>\n    <tr>\n      <th>41892</th>\n      <td>2019-10-10</td>\n      <td>Serbia</td>\n      <td>Paraguay</td>\n      <td>1</td>\n      <td>0</td>\n      <td>1</td>\n    </tr>\n    <tr>\n      <th>41893</th>\n      <td>�hT�T��\\]���^\u001B��韉_\u0003W�J5�+��k���kn6�iu��hY\u0012���d...</td>\n      <td>늡��gn$+6��a-��D�&amp;��\u0000FF��\u0000�)&gt;x�\u0007���\u0003���n�$�כ;\u001F...</td>\n      <td>��Fd��s3�ȅ���d���rU!ĩ�\u001BC/�*���ce�\\tu���ж�Z�y�p...</td>\n      <td>None</td>\n      <td>None</td>\n      <td>1</td>\n    </tr>\n  </tbody>\n</table>\n<p>41894 rows × 6 columns</p>\n</div>"
     },
     "execution_count": 75,
     "metadata": {},
     "output_type": "execute_result"
    }
   ],
   "source": [
    "int_football_result.groupBy(['date','home_team','away_team','home_score','away_score']).count().orderBy(fc.desc('count')).toPandas()"
   ],
   "metadata": {
    "collapsed": false,
    "pycharm": {
     "name": "#%%\n"
    }
   }
  },
  {
   "cell_type": "code",
   "execution_count": 76,
   "outputs": [],
   "source": [
    "int_football_result=int_football_result.dropna('any',subset=['date','home_team','away_team','home_score','away_score'])\n"
   ],
   "metadata": {
    "collapsed": false,
    "pycharm": {
     "name": "#%%\n"
    }
   }
  },
  {
   "cell_type": "code",
   "execution_count": 84,
   "outputs": [
    {
     "data": {
      "text/plain": "41591"
     },
     "execution_count": 84,
     "metadata": {},
     "output_type": "execute_result"
    }
   ],
   "source": [
    "int_football_result.count()"
   ],
   "metadata": {
    "collapsed": false,
    "pycharm": {
     "name": "#%%\n"
    }
   }
  },
  {
   "cell_type": "code",
   "execution_count": 86,
   "outputs": [],
   "source": [
    "int_football_result = int_football_result.dropDuplicates().dropna('all',subset=['country','city'])\n"
   ],
   "metadata": {
    "collapsed": false,
    "pycharm": {
     "name": "#%%\n"
    }
   }
  },
  {
   "cell_type": "code",
   "execution_count": 87,
   "outputs": [
    {
     "data": {
      "text/plain": "41586"
     },
     "execution_count": 87,
     "metadata": {},
     "output_type": "execute_result"
    }
   ],
   "source": [
    "int_football_result.count()\n"
   ],
   "metadata": {
    "collapsed": false,
    "pycharm": {
     "name": "#%%\n"
    }
   }
  },
  {
   "cell_type": "code",
   "execution_count": 71,
   "outputs": [
    {
     "data": {
      "text/plain": "         date home_team    away_team home_score away_score tournament  \\\n0  2010-12-31    Kuwait       Zambia          4          0   Friendly   \n1  2010-12-24    Kuwait  North Korea          2          1   Friendly   \n2  2010-12-27    Kuwait  North Korea          2          2   Friendly   \n3  2012-06-08   Bahrain       Kuwait          1          1   Friendly   \n4  2012-06-12   Bahrain       Kuwait          0          1   Friendly   \n\n                  city country neutral  \n0  6th of October City   Egypt    TRUE  \n1  6th of October City   Egypt    TRUE  \n2  6th of October City   Egypt    TRUE  \n3  6th of October City   Egypt    TRUE  \n4  6th of October City   Egypt    TRUE  ",
      "text/html": "<div>\n<style scoped>\n    .dataframe tbody tr th:only-of-type {\n        vertical-align: middle;\n    }\n\n    .dataframe tbody tr th {\n        vertical-align: top;\n    }\n\n    .dataframe thead th {\n        text-align: right;\n    }\n</style>\n<table border=\"1\" class=\"dataframe\">\n  <thead>\n    <tr style=\"text-align: right;\">\n      <th></th>\n      <th>date</th>\n      <th>home_team</th>\n      <th>away_team</th>\n      <th>home_score</th>\n      <th>away_score</th>\n      <th>tournament</th>\n      <th>city</th>\n      <th>country</th>\n      <th>neutral</th>\n    </tr>\n  </thead>\n  <tbody>\n    <tr>\n      <th>0</th>\n      <td>2010-12-31</td>\n      <td>Kuwait</td>\n      <td>Zambia</td>\n      <td>4</td>\n      <td>0</td>\n      <td>Friendly</td>\n      <td>6th of October City</td>\n      <td>Egypt</td>\n      <td>TRUE</td>\n    </tr>\n    <tr>\n      <th>1</th>\n      <td>2010-12-24</td>\n      <td>Kuwait</td>\n      <td>North Korea</td>\n      <td>2</td>\n      <td>1</td>\n      <td>Friendly</td>\n      <td>6th of October City</td>\n      <td>Egypt</td>\n      <td>TRUE</td>\n    </tr>\n    <tr>\n      <th>2</th>\n      <td>2010-12-27</td>\n      <td>Kuwait</td>\n      <td>North Korea</td>\n      <td>2</td>\n      <td>2</td>\n      <td>Friendly</td>\n      <td>6th of October City</td>\n      <td>Egypt</td>\n      <td>TRUE</td>\n    </tr>\n    <tr>\n      <th>3</th>\n      <td>2012-06-08</td>\n      <td>Bahrain</td>\n      <td>Kuwait</td>\n      <td>1</td>\n      <td>1</td>\n      <td>Friendly</td>\n      <td>6th of October City</td>\n      <td>Egypt</td>\n      <td>TRUE</td>\n    </tr>\n    <tr>\n      <th>4</th>\n      <td>2012-06-12</td>\n      <td>Bahrain</td>\n      <td>Kuwait</td>\n      <td>0</td>\n      <td>1</td>\n      <td>Friendly</td>\n      <td>6th of October City</td>\n      <td>Egypt</td>\n      <td>TRUE</td>\n    </tr>\n  </tbody>\n</table>\n</div>"
     },
     "execution_count": 71,
     "metadata": {},
     "output_type": "execute_result"
    }
   ],
   "source": [
    "int_football_result.where((int_football_result.city).isNotNull()).orderBy(fc.asc('city')).limit(5).toPandas()\n",
    "\n"
   ],
   "metadata": {
    "collapsed": false,
    "pycharm": {
     "name": "#%%\n"
    }
   }
  },
  {
   "cell_type": "code",
   "execution_count": 82,
   "outputs": [
    {
     "data": {
      "text/plain": "             date        home_team         away_team home_score away_score  \\\n0      1891-03-28         Scotland  Northern Ireland          2          1   \n1      1919-10-12           Sweden           Denmark          3          0   \n2      1922-03-26          Germany       Switzerland          2          2   \n3      1923-07-24          Estonia            Latvia          1          1   \n4      1933-06-11          Austria           Belgium          4          1   \n...           ...              ...               ...        ...        ...   \n41586  2019-05-25         Eswatini         Mauritius          2          2   \n41587  2019-06-02  Western Armenia     South Ossetia          1          2   \n41588  2019-07-08   American Samoa     New Caledonia          0          5   \n41589  2019-09-06       San Marino           Belgium          0          4   \n41590  2019-10-10           Serbia          Paraguay          1          0   \n\n       count  \n0          1  \n1          1  \n2          1  \n3          1  \n4          1  \n...      ...  \n41586      1  \n41587      1  \n41588      1  \n41589      1  \n41590      1  \n\n[41591 rows x 6 columns]",
      "text/html": "<div>\n<style scoped>\n    .dataframe tbody tr th:only-of-type {\n        vertical-align: middle;\n    }\n\n    .dataframe tbody tr th {\n        vertical-align: top;\n    }\n\n    .dataframe thead th {\n        text-align: right;\n    }\n</style>\n<table border=\"1\" class=\"dataframe\">\n  <thead>\n    <tr style=\"text-align: right;\">\n      <th></th>\n      <th>date</th>\n      <th>home_team</th>\n      <th>away_team</th>\n      <th>home_score</th>\n      <th>away_score</th>\n      <th>count</th>\n    </tr>\n  </thead>\n  <tbody>\n    <tr>\n      <th>0</th>\n      <td>1891-03-28</td>\n      <td>Scotland</td>\n      <td>Northern Ireland</td>\n      <td>2</td>\n      <td>1</td>\n      <td>1</td>\n    </tr>\n    <tr>\n      <th>1</th>\n      <td>1919-10-12</td>\n      <td>Sweden</td>\n      <td>Denmark</td>\n      <td>3</td>\n      <td>0</td>\n      <td>1</td>\n    </tr>\n    <tr>\n      <th>2</th>\n      <td>1922-03-26</td>\n      <td>Germany</td>\n      <td>Switzerland</td>\n      <td>2</td>\n      <td>2</td>\n      <td>1</td>\n    </tr>\n    <tr>\n      <th>3</th>\n      <td>1923-07-24</td>\n      <td>Estonia</td>\n      <td>Latvia</td>\n      <td>1</td>\n      <td>1</td>\n      <td>1</td>\n    </tr>\n    <tr>\n      <th>4</th>\n      <td>1933-06-11</td>\n      <td>Austria</td>\n      <td>Belgium</td>\n      <td>4</td>\n      <td>1</td>\n      <td>1</td>\n    </tr>\n    <tr>\n      <th>...</th>\n      <td>...</td>\n      <td>...</td>\n      <td>...</td>\n      <td>...</td>\n      <td>...</td>\n      <td>...</td>\n    </tr>\n    <tr>\n      <th>41586</th>\n      <td>2019-05-25</td>\n      <td>Eswatini</td>\n      <td>Mauritius</td>\n      <td>2</td>\n      <td>2</td>\n      <td>1</td>\n    </tr>\n    <tr>\n      <th>41587</th>\n      <td>2019-06-02</td>\n      <td>Western Armenia</td>\n      <td>South Ossetia</td>\n      <td>1</td>\n      <td>2</td>\n      <td>1</td>\n    </tr>\n    <tr>\n      <th>41588</th>\n      <td>2019-07-08</td>\n      <td>American Samoa</td>\n      <td>New Caledonia</td>\n      <td>0</td>\n      <td>5</td>\n      <td>1</td>\n    </tr>\n    <tr>\n      <th>41589</th>\n      <td>2019-09-06</td>\n      <td>San Marino</td>\n      <td>Belgium</td>\n      <td>0</td>\n      <td>4</td>\n      <td>1</td>\n    </tr>\n    <tr>\n      <th>41590</th>\n      <td>2019-10-10</td>\n      <td>Serbia</td>\n      <td>Paraguay</td>\n      <td>1</td>\n      <td>0</td>\n      <td>1</td>\n    </tr>\n  </tbody>\n</table>\n<p>41591 rows × 6 columns</p>\n</div>"
     },
     "execution_count": 82,
     "metadata": {},
     "output_type": "execute_result"
    }
   ],
   "source": [
    "int_football_result.groupBy(['date','home_team','away_team','home_score','away_score']).count().orderBy(fc.desc('count')).toPandas()\n"
   ],
   "metadata": {
    "collapsed": false,
    "pycharm": {
     "name": "#%%\n"
    }
   }
  }
 ],
 "metadata": {
  "kernelspec": {
   "display_name": "Python 3",
   "language": "python",
   "name": "python3"
  },
  "language_info": {
   "codemirror_mode": {
    "name": "ipython",
    "version": 2
   },
   "file_extension": ".py",
   "mimetype": "text/x-python",
   "name": "python",
   "nbconvert_exporter": "python",
   "pygments_lexer": "ipython2",
   "version": "2.7.6"
  }
 },
 "nbformat": 4,
 "nbformat_minor": 0
}